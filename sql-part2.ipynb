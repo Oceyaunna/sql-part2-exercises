{
    "metadata": {
        "kernelspec": {
            "name": "SQL",
            "display_name": "SQL",
            "language": "sql"
        },
        "language_info": {
            "name": "sql",
            "version": ""
        }
    },
    "nbformat_minor": 2,
    "nbformat": 4,
    "cells": [
        {
            "cell_type": "markdown",
            "source": [
                "# Exercises\n",
                "\n",
                "To get started with the exercises, go ahead and take a look at RideShareDB. This database was created with data from a dataset on [Kaggle](https://www.kaggle.com/fivethirtyeight/uber-pickups-in-new-york-city). The dataset was made using data obtained from the NYC Taxi and Limosine Commission or TLC. TLC tracks this data by base and even rideshare companies such as Uber and Lyft have assigned bases that each pickup must be attributed to. For the exercises, we will be using the `other-FHV-services-jan-july15` and `lyft` tables in RideShareDB. These tables include the data for each pickup attributed to a few other For-Hire Vehicles (FHV) services and Lyft. These tables do not include any data from Uber.\n",
                "\n",
                "## String Functions\n",
                "\n",
                "Write a query that returns the last 3 characters of the base name in `other-FHV-services-jan-july15`. Do you see anything that is a common abbreviation at the end of business names?\n",
                "\n",
                "<u>**I see that there are common abbreviations llike inc or inc. and llc**</u>"
            ],
            "metadata": {
                "azdata_cell_guid": "2b5a5976-8b51-4e24-a08d-234ef97f379a"
            },
            "attachments": {}
        },
        {
            "cell_type": "code",
            "source": [
                "---QUERY TO SEE THE TOP 10 OF OTHER TABLE\r\n",
                "SELECT TOP 10 * \r\n",
                "FROM RideShareDB.dbo.other_FHV_services_jan_aug_2015"
            ],
            "metadata": {
                "azdata_cell_guid": "e62b31fe-a3e1-44ae-b8dd-b3bb0524acbf",
                "language": "sql"
            },
            "outputs": [
                {
                    "output_type": "display_data",
                    "data": {
                        "text/html": "(10 rows affected)"
                    },
                    "metadata": {}
                },
                {
                    "output_type": "display_data",
                    "data": {
                        "text/html": "Total execution time: 00:00:00.047"
                    },
                    "metadata": {}
                },
                {
                    "output_type": "execute_result",
                    "execution_count": 3,
                    "data": {
                        "application/vnd.dataresource+json": {
                            "schema": {
                                "fields": [
                                    {
                                        "name": "Base_Number"
                                    },
                                    {
                                        "name": "Base_Name"
                                    },
                                    {
                                        "name": "Pick_Up_Date"
                                    },
                                    {
                                        "name": "Number_of_Trips"
                                    },
                                    {
                                        "name": "Number_of_Vehicles"
                                    }
                                ]
                            },
                            "data": [
                                {
                                    "0": "B00013",
                                    "1": "LOVE CORP CAR INC",
                                    "2": "2015-01-01",
                                    "3": "26 ",
                                    "4": "17 "
                                },
                                {
                                    "0": "B00014",
                                    "1": "NY ONE CORP CAR INC",
                                    "2": "2015-01-01",
                                    "3": "45 ",
                                    "4": "24 "
                                },
                                {
                                    "0": "B00029",
                                    "1": "COMMUNITY CAR SVC CORP",
                                    "2": "2015-01-01",
                                    "3": "731 ",
                                    "4": "36 "
                                },
                                {
                                    "0": "B00053",
                                    "1": "CHARGE AND RIDE INC",
                                    "2": "2015-01-01",
                                    "3": "10 ",
                                    "4": "9 "
                                },
                                {
                                    "0": "B00095",
                                    "1": "LIBERTY CAR SERVICE INC.",
                                    "2": "2015-01-01",
                                    "3": "814 ",
                                    "4": "62 "
                                },
                                {
                                    "0": "B00221",
                                    "1": "PROFESSIONAL CAR SERVICE INC",
                                    "2": "2015-01-01",
                                    "3": "220 ",
                                    "4": "46 "
                                },
                                {
                                    "0": "B00227",
                                    "1": "PARK WEST EXEC. SERVICES, INC.",
                                    "2": "2015-01-01",
                                    "3": "36 ",
                                    "4": "28 "
                                },
                                {
                                    "0": "B00248",
                                    "1": "YELLOWSTONE TRANSPORTATION INC.",
                                    "2": "2015-01-01",
                                    "3": " 1,137 ",
                                    "4": "106 "
                                },
                                {
                                    "0": "B00254",
                                    "1": "XYZ TWO WAY RADIO",
                                    "2": "2015-01-01",
                                    "3": "236 ",
                                    "4": "103 "
                                },
                                {
                                    "0": "B00280",
                                    "1": "FLEET RADIO DISPATCH CORP.",
                                    "2": "2015-01-01",
                                    "3": "47 ",
                                    "4": "29 "
                                }
                            ]
                        },
                        "text/html": "<table><tr><th>Base_Number</th><th>Base_Name</th><th>Pick_Up_Date</th><th>Number_of_Trips</th><th>Number_of_Vehicles</th></tr><tr><td>B00013</td><td>LOVE CORP CAR INC</td><td>2015-01-01</td><td>26 </td><td>17 </td></tr><tr><td>B00014</td><td>NY ONE CORP CAR INC</td><td>2015-01-01</td><td>45 </td><td>24 </td></tr><tr><td>B00029</td><td>COMMUNITY CAR SVC CORP</td><td>2015-01-01</td><td>731 </td><td>36 </td></tr><tr><td>B00053</td><td>CHARGE AND RIDE INC</td><td>2015-01-01</td><td>10 </td><td>9 </td></tr><tr><td>B00095</td><td>LIBERTY CAR SERVICE INC.</td><td>2015-01-01</td><td>814 </td><td>62 </td></tr><tr><td>B00221</td><td>PROFESSIONAL CAR SERVICE INC</td><td>2015-01-01</td><td>220 </td><td>46 </td></tr><tr><td>B00227</td><td>PARK WEST EXEC. SERVICES, INC.</td><td>2015-01-01</td><td>36 </td><td>28 </td></tr><tr><td>B00248</td><td>YELLOWSTONE TRANSPORTATION INC.</td><td>2015-01-01</td><td> 1,137 </td><td>106 </td></tr><tr><td>B00254</td><td>XYZ TWO WAY RADIO</td><td>2015-01-01</td><td>236 </td><td>103 </td></tr><tr><td>B00280</td><td>FLEET RADIO DISPATCH CORP.</td><td>2015-01-01</td><td>47 </td><td>29 </td></tr></table>"
                    },
                    "metadata": {}
                }
            ],
            "execution_count": 3
        },
        {
            "cell_type": "code",
            "source": [
                "SELECT TOP 20 RIGHT(Base_Name,3)\r\n",
                "FROM RideShareDB.dbo.other_FHV_services_jan_aug_2015"
            ],
            "metadata": {
                "azdata_cell_guid": "392f7b72-9acf-44a4-bb53-6c29090c5d75",
                "tags": [],
                "language": "sql"
            },
            "outputs": [
                {
                    "output_type": "display_data",
                    "data": {
                        "text/html": "(20 rows affected)"
                    },
                    "metadata": {}
                },
                {
                    "output_type": "display_data",
                    "data": {
                        "text/html": "Total execution time: 00:00:00.093"
                    },
                    "metadata": {}
                },
                {
                    "output_type": "execute_result",
                    "execution_count": 51,
                    "data": {
                        "application/vnd.dataresource+json": {
                            "schema": {
                                "fields": [
                                    {
                                        "name": "(No column name)"
                                    }
                                ]
                            },
                            "data": [
                                {
                                    "0": "INC"
                                },
                                {
                                    "0": "INC"
                                },
                                {
                                    "0": "ORP"
                                },
                                {
                                    "0": "INC"
                                },
                                {
                                    "0": "NC."
                                },
                                {
                                    "0": "INC"
                                },
                                {
                                    "0": "NC."
                                },
                                {
                                    "0": "NC."
                                },
                                {
                                    "0": "DIO"
                                },
                                {
                                    "0": "RP."
                                },
                                {
                                    "0": "NC."
                                },
                                {
                                    "0": "INC"
                                },
                                {
                                    "0": "LTD"
                                },
                                {
                                    "0": "ORP"
                                },
                                {
                                    "0": "INC"
                                },
                                {
                                    "0": "NC."
                                },
                                {
                                    "0": "LLC"
                                },
                                {
                                    "0": "INC"
                                },
                                {
                                    "0": "NC."
                                },
                                {
                                    "0": "NC."
                                }
                            ]
                        },
                        "text/html": "<table><tr><th>(No column name)</th></tr><tr><td>INC</td></tr><tr><td>INC</td></tr><tr><td>ORP</td></tr><tr><td>INC</td></tr><tr><td>NC.</td></tr><tr><td>INC</td></tr><tr><td>NC.</td></tr><tr><td>NC.</td></tr><tr><td>DIO</td></tr><tr><td>RP.</td></tr><tr><td>NC.</td></tr><tr><td>INC</td></tr><tr><td>LTD</td></tr><tr><td>ORP</td></tr><tr><td>INC</td></tr><tr><td>NC.</td></tr><tr><td>LLC</td></tr><tr><td>INC</td></tr><tr><td>NC.</td></tr><tr><td>NC.</td></tr></table>"
                    },
                    "metadata": {}
                }
            ],
            "execution_count": 51
        },
        {
            "cell_type": "markdown",
            "source": [
                "The number of trips and the number of pickups are both stored as strings in `other-FHV-services-jan-july15`. This is because the data provided included spaces in some of the numbers. Write a query that returns the location of spaces in both of these columns."
            ],
            "metadata": {
                "azdata_cell_guid": "6c206898-77f4-4357-8d17-33192980f45d"
            },
            "attachments": {}
        },
        {
            "cell_type": "code",
            "source": [
                "SELECT \r\n",
                "    TOP 10\r\n",
                "    Number_of_Trips,\r\n",
                "    CHARINDEX(' ', Number_of_Trips) AS 'Number of trip space location',\r\n",
                "    Number_of_Vehicles,\r\n",
                "    CHARINDEX(' ', Number_of_Vehicles) AS 'Number of vehicles space location'\r\n",
                "FROM RideShareDB.dbo.other_FHV_services_jan_aug_2015"
            ],
            "metadata": {
                "azdata_cell_guid": "3c810c3d-4e66-447b-8326-19e59d8a1b88",
                "language": "sql"
            },
            "outputs": [
                {
                    "output_type": "display_data",
                    "data": {
                        "text/html": "(10 rows affected)"
                    },
                    "metadata": {}
                },
                {
                    "output_type": "display_data",
                    "data": {
                        "text/html": "Total execution time: 00:00:00.044"
                    },
                    "metadata": {}
                },
                {
                    "output_type": "execute_result",
                    "execution_count": 14,
                    "data": {
                        "application/vnd.dataresource+json": {
                            "schema": {
                                "fields": [
                                    {
                                        "name": "Number_of_Trips"
                                    },
                                    {
                                        "name": "Number of trip space location"
                                    },
                                    {
                                        "name": "Number_of_Vehicles"
                                    },
                                    {
                                        "name": "Number of vehicles space location"
                                    }
                                ]
                            },
                            "data": [
                                {
                                    "0": "26 ",
                                    "1": "3",
                                    "2": "17 ",
                                    "3": "3"
                                },
                                {
                                    "0": "45 ",
                                    "1": "3",
                                    "2": "24 ",
                                    "3": "3"
                                },
                                {
                                    "0": "731 ",
                                    "1": "4",
                                    "2": "36 ",
                                    "3": "3"
                                },
                                {
                                    "0": "10 ",
                                    "1": "3",
                                    "2": "9 ",
                                    "3": "2"
                                },
                                {
                                    "0": "814 ",
                                    "1": "4",
                                    "2": "62 ",
                                    "3": "3"
                                },
                                {
                                    "0": "220 ",
                                    "1": "4",
                                    "2": "46 ",
                                    "3": "3"
                                },
                                {
                                    "0": "36 ",
                                    "1": "3",
                                    "2": "28 ",
                                    "3": "3"
                                },
                                {
                                    "0": " 1,137 ",
                                    "1": "1",
                                    "2": "106 ",
                                    "3": "4"
                                },
                                {
                                    "0": "236 ",
                                    "1": "4",
                                    "2": "103 ",
                                    "3": "4"
                                },
                                {
                                    "0": "47 ",
                                    "1": "3",
                                    "2": "29 ",
                                    "3": "3"
                                }
                            ]
                        },
                        "text/html": "<table><tr><th>Number_of_Trips</th><th>Number of trip space location</th><th>Number_of_Vehicles</th><th>Number of vehicles space location</th></tr><tr><td>26 </td><td>3</td><td>17 </td><td>3</td></tr><tr><td>45 </td><td>3</td><td>24 </td><td>3</td></tr><tr><td>731 </td><td>4</td><td>36 </td><td>3</td></tr><tr><td>10 </td><td>3</td><td>9 </td><td>2</td></tr><tr><td>814 </td><td>4</td><td>62 </td><td>3</td></tr><tr><td>220 </td><td>4</td><td>46 </td><td>3</td></tr><tr><td>36 </td><td>3</td><td>28 </td><td>3</td></tr><tr><td> 1,137 </td><td>1</td><td>106 </td><td>4</td></tr><tr><td>236 </td><td>4</td><td>103 </td><td>4</td></tr><tr><td>47 </td><td>3</td><td>29 </td><td>3</td></tr></table>"
                    },
                    "metadata": {}
                }
            ],
            "execution_count": 14
        },
        {
            "cell_type": "markdown",
            "source": [
                "## Date Functions\n",
                "\n",
                "For ``other-FHV-services-jan-july15``, display the name of month of the pickup date and order in descending order. Is the result of this query what you expected?"
            ],
            "metadata": {
                "azdata_cell_guid": "b138ac53-9fff-4320-9ff1-08717873f2ee"
            },
            "attachments": {}
        },
        {
            "cell_type": "code",
            "source": [
                "SELECT \r\n",
                "TOP 10\r\n",
                "    Base_Number,\r\n",
                "    DATENAME(MONTH, Pick_Up_Date) AS 'Month of Pick Up Date'\r\n",
                "FROM RideShareDB.dbo.other_FHV_services_jan_aug_2015\r\n",
                "ORDER BY DATENAME(Month, Pick_Up_Date) DESC\r\n",
                ""
            ],
            "metadata": {
                "azdata_cell_guid": "8abd404c-a360-4b10-8d6b-8b34ef763bc7",
                "tags": [],
                "language": "sql"
            },
            "outputs": [
                {
                    "output_type": "display_data",
                    "data": {
                        "text/html": "(10 rows affected)"
                    },
                    "metadata": {}
                },
                {
                    "output_type": "display_data",
                    "data": {
                        "text/html": "Total execution time: 00:00:00.054"
                    },
                    "metadata": {}
                },
                {
                    "output_type": "execute_result",
                    "execution_count": 48,
                    "data": {
                        "application/vnd.dataresource+json": {
                            "schema": {
                                "fields": [
                                    {
                                        "name": "Base_Number"
                                    },
                                    {
                                        "name": "Month of Pick Up Date"
                                    }
                                ]
                            },
                            "data": [
                                {
                                    "0": "B00008",
                                    "1": "May"
                                },
                                {
                                    "0": "B00009",
                                    "1": "May"
                                },
                                {
                                    "0": "B00013",
                                    "1": "May"
                                },
                                {
                                    "0": "B00014",
                                    "1": "May"
                                },
                                {
                                    "0": "B00021",
                                    "1": "May"
                                },
                                {
                                    "0": "B00029",
                                    "1": "May"
                                },
                                {
                                    "0": "B00030",
                                    "1": "May"
                                },
                                {
                                    "0": "B00035",
                                    "1": "May"
                                },
                                {
                                    "0": "B00078",
                                    "1": "May"
                                },
                                {
                                    "0": "B00083",
                                    "1": "May"
                                }
                            ]
                        },
                        "text/html": "<table><tr><th>Base_Number</th><th>Month of Pick Up Date</th></tr><tr><td>B00008</td><td>May</td></tr><tr><td>B00009</td><td>May</td></tr><tr><td>B00013</td><td>May</td></tr><tr><td>B00014</td><td>May</td></tr><tr><td>B00021</td><td>May</td></tr><tr><td>B00029</td><td>May</td></tr><tr><td>B00030</td><td>May</td></tr><tr><td>B00035</td><td>May</td></tr><tr><td>B00078</td><td>May</td></tr><tr><td>B00083</td><td>May</td></tr></table>"
                    },
                    "metadata": {}
                }
            ],
            "execution_count": 48
        },
        {
            "cell_type": "markdown",
            "source": [
                "Using `other-FHV-services-jan-july15`, write a query that returns the day number of the pickup date and month name and orders it in ascending order by day number."
            ],
            "metadata": {
                "azdata_cell_guid": "aa6bf15c-b847-45f0-ba0d-79c7636c4578"
            },
            "attachments": {}
        },
        {
            "cell_type": "code",
            "source": [
                "SELECT \r\n",
                "TOP 10\r\n",
                "    Base_Number,\r\n",
                "    DATEPART(DAY, Pick_Up_Date) AS 'DATE(DAY) of Pick Up Date'\r\n",
                "FROM RideShareDB.dbo.other_FHV_services_jan_aug_2015\r\n",
                "ORDER BY DATEPART(DAY, Pick_Up_Date) ASC"
            ],
            "metadata": {
                "azdata_cell_guid": "46dcd617-8dcf-4c15-b5fa-c0ec04f2bf29",
                "language": "sql"
            },
            "outputs": [
                {
                    "output_type": "display_data",
                    "data": {
                        "text/html": "(10 rows affected)"
                    },
                    "metadata": {}
                },
                {
                    "output_type": "display_data",
                    "data": {
                        "text/html": "Total execution time: 00:00:00.057"
                    },
                    "metadata": {}
                },
                {
                    "output_type": "execute_result",
                    "execution_count": 47,
                    "data": {
                        "application/vnd.dataresource+json": {
                            "schema": {
                                "fields": [
                                    {
                                        "name": "Base_Number"
                                    },
                                    {
                                        "name": "DATE(DAY) of Pick Up Date"
                                    }
                                ]
                            },
                            "data": [
                                {
                                    "0": "B00310",
                                    "1": "1"
                                },
                                {
                                    "0": "B00280",
                                    "1": "1"
                                },
                                {
                                    "0": "B00254",
                                    "1": "1"
                                },
                                {
                                    "0": "B00248",
                                    "1": "1"
                                },
                                {
                                    "0": "B00227",
                                    "1": "1"
                                },
                                {
                                    "0": "B00221",
                                    "1": "1"
                                },
                                {
                                    "0": "B00095",
                                    "1": "1"
                                },
                                {
                                    "0": "B00053",
                                    "1": "1"
                                },
                                {
                                    "0": "B00029",
                                    "1": "1"
                                },
                                {
                                    "0": "B00014",
                                    "1": "1"
                                }
                            ]
                        },
                        "text/html": "<table><tr><th>Base_Number</th><th>DATE(DAY) of Pick Up Date</th></tr><tr><td>B00310</td><td>1</td></tr><tr><td>B00280</td><td>1</td></tr><tr><td>B00254</td><td>1</td></tr><tr><td>B00248</td><td>1</td></tr><tr><td>B00227</td><td>1</td></tr><tr><td>B00221</td><td>1</td></tr><tr><td>B00095</td><td>1</td></tr><tr><td>B00053</td><td>1</td></tr><tr><td>B00029</td><td>1</td></tr><tr><td>B00014</td><td>1</td></tr></table>"
                    },
                    "metadata": {}
                }
            ],
            "execution_count": 47
        },
        {
            "cell_type": "markdown",
            "source": [
                "## Aggregate Functions\n",
                "\n",
                "Write a query that returns the most easterly Lyft pickup."
            ],
            "metadata": {
                "azdata_cell_guid": "348342a2-6039-43b1-8461-841288deee94"
            },
            "attachments": {}
        },
        {
            "cell_type": "code",
            "source": [
                "SELECT TOP 10 *\r\n",
                "FROM RideShareDB.dbo.lyft"
            ],
            "metadata": {
                "azdata_cell_guid": "f2cb1b41-c92a-47ea-bd77-7bafd78af1d4",
                "tags": [],
                "language": "sql"
            },
            "outputs": [
                {
                    "output_type": "display_data",
                    "data": {
                        "text/html": "(10 rows affected)"
                    },
                    "metadata": {}
                },
                {
                    "output_type": "display_data",
                    "data": {
                        "text/html": "Total execution time: 00:00:00.052"
                    },
                    "metadata": {}
                },
                {
                    "output_type": "execute_result",
                    "execution_count": 23,
                    "data": {
                        "application/vnd.dataresource+json": {
                            "schema": {
                                "fields": [
                                    {
                                        "name": "time_of_trip"
                                    },
                                    {
                                        "name": "start_lat"
                                    },
                                    {
                                        "name": "start_lng"
                                    }
                                ]
                            },
                            "data": [
                                {
                                    "0": "2014-09-04 09:51:00.0000000",
                                    "1": "40.64705",
                                    "2": "-73.77988"
                                },
                                {
                                    "0": "2014-08-27 21:13:00.0000000",
                                    "1": "40.74916",
                                    "2": "-73.98373"
                                },
                                {
                                    "0": "2014-09-04 14:16:00.0000000",
                                    "1": "40.64065",
                                    "2": "-73.97594"
                                },
                                {
                                    "0": "2014-09-04 16:08:00.0000000",
                                    "1": "40.75002",
                                    "2": "-73.99514"
                                },
                                {
                                    "0": "2014-08-28 02:41:00.0000000",
                                    "1": "40.76715",
                                    "2": "-73.98636"
                                },
                                {
                                    "0": "2014-09-13 03:57:00.0000000",
                                    "1": "40.70707",
                                    "2": "-74.01211"
                                },
                                {
                                    "0": "2014-09-11 23:13:00.0000000",
                                    "1": "40.72953",
                                    "2": "-73.97799"
                                },
                                {
                                    "0": "2014-08-27 22:56:00.0000000",
                                    "1": "40.76689",
                                    "2": "-73.95631"
                                },
                                {
                                    "0": "2014-09-10 17:48:00.0000000",
                                    "1": "40.82332",
                                    "2": "-73.86235"
                                },
                                {
                                    "0": "2014-09-12 23:24:00.0000000",
                                    "1": "40.72188",
                                    "2": "-73.99732"
                                }
                            ]
                        },
                        "text/html": "<table><tr><th>time_of_trip</th><th>start_lat</th><th>start_lng</th></tr><tr><td>2014-09-04 09:51:00.0000000</td><td>40.64705</td><td>-73.77988</td></tr><tr><td>2014-08-27 21:13:00.0000000</td><td>40.74916</td><td>-73.98373</td></tr><tr><td>2014-09-04 14:16:00.0000000</td><td>40.64065</td><td>-73.97594</td></tr><tr><td>2014-09-04 16:08:00.0000000</td><td>40.75002</td><td>-73.99514</td></tr><tr><td>2014-08-28 02:41:00.0000000</td><td>40.76715</td><td>-73.98636</td></tr><tr><td>2014-09-13 03:57:00.0000000</td><td>40.70707</td><td>-74.01211</td></tr><tr><td>2014-09-11 23:13:00.0000000</td><td>40.72953</td><td>-73.97799</td></tr><tr><td>2014-08-27 22:56:00.0000000</td><td>40.76689</td><td>-73.95631</td></tr><tr><td>2014-09-10 17:48:00.0000000</td><td>40.82332</td><td>-73.86235</td></tr><tr><td>2014-09-12 23:24:00.0000000</td><td>40.72188</td><td>-73.99732</td></tr></table>"
                    },
                    "metadata": {}
                }
            ],
            "execution_count": 23
        },
        {
            "cell_type": "code",
            "source": [
                "SELECT MAX(start_lng) AS 'Most Eastern Longitude' \r\n",
                "FROM RideShareDB.dbo.lyft"
            ],
            "metadata": {
                "language": "sql",
                "azdata_cell_guid": "875fd013-cbfe-4ecf-9876-272f575296cf"
            },
            "outputs": [
                {
                    "output_type": "display_data",
                    "data": {
                        "text/html": "Warning: Null value is eliminated by an aggregate or other SET operation."
                    },
                    "metadata": {}
                },
                {
                    "output_type": "display_data",
                    "data": {
                        "text/html": "(1 row affected)"
                    },
                    "metadata": {}
                },
                {
                    "output_type": "display_data",
                    "data": {
                        "text/html": "Total execution time: 00:00:00.129"
                    },
                    "metadata": {}
                },
                {
                    "output_type": "execute_result",
                    "metadata": {},
                    "execution_count": 2,
                    "data": {
                        "application/vnd.dataresource+json": {
                            "schema": {
                                "fields": [
                                    {
                                        "name": "Most Eastern Longitude"
                                    }
                                ]
                            },
                            "data": [
                                {
                                    "0": "-73.72315"
                                }
                            ]
                        },
                        "text/html": [
                            "<table>",
                            "<tr><th>Most Eastern Longitude</th></tr>",
                            "<tr><td>-73.72315</td></tr>",
                            "</table>"
                        ]
                    }
                }
            ],
            "execution_count": 2
        },
        {
            "cell_type": "code",
            "source": [
                "SELECT TOP 3\r\n",
                "    time_of_trip,\r\n",
                "    start_lat,\r\n",
                "    MIN(start_lng) AS 'Easter most Lyft Pickup' \r\n",
                "FROM RideShareDB.dbo.lyft\r\n",
                "GROUP BY start_lng, start_lat, time_of_trip\r\n",
                "ORDER BY start_lng ASC"
            ],
            "metadata": {
                "azdata_cell_guid": "eaebd73d-3c10-4b12-96ab-60ff1850505c",
                "language": "sql"
            },
            "outputs": [
                {
                    "output_type": "display_data",
                    "data": {
                        "text/html": "Warning: Null value is eliminated by an aggregate or other SET operation."
                    },
                    "metadata": {}
                },
                {
                    "output_type": "display_data",
                    "data": {
                        "text/html": "(3 rows affected)"
                    },
                    "metadata": {}
                },
                {
                    "output_type": "display_data",
                    "data": {
                        "text/html": "Total execution time: 00:00:00.234"
                    },
                    "metadata": {}
                },
                {
                    "output_type": "execute_result",
                    "execution_count": 40,
                    "data": {
                        "application/vnd.dataresource+json": {
                            "schema": {
                                "fields": [
                                    {
                                        "name": "time_of_trip"
                                    },
                                    {
                                        "name": "start_lat"
                                    },
                                    {
                                        "name": "Easter most Lyft Pickup"
                                    }
                                ]
                            },
                            "data": [
                                {
                                    "0": "2014-07-26 04:21:00.0000000",
                                    "1": "NULL",
                                    "2": "NULL"
                                },
                                {
                                    "0": "2014-08-14 02:23:00.0000000",
                                    "1": "40.52785",
                                    "2": "-74.22689"
                                },
                                {
                                    "0": "2014-08-11 00:00:00.0000000",
                                    "1": "40.53042",
                                    "2": "-74.20857"
                                }
                            ]
                        },
                        "text/html": "<table><tr><th>time_of_trip</th><th>start_lat</th><th>Easter most Lyft Pickup</th></tr><tr><td>2014-07-26 04:21:00.0000000</td><td>NULL</td><td>NULL</td></tr><tr><td>2014-08-14 02:23:00.0000000</td><td>40.52785</td><td>-74.22689</td></tr><tr><td>2014-08-11 00:00:00.0000000</td><td>40.53042</td><td>-74.20857</td></tr></table>"
                    },
                    "metadata": {}
                }
            ],
            "execution_count": 40
        },
        {
            "cell_type": "markdown",
            "source": [
                "Write a query the returns the most northerly Lyft pickup."
            ],
            "metadata": {
                "azdata_cell_guid": "bd589862-044d-4909-8565-8aa4771d9c00"
            },
            "attachments": {}
        },
        {
            "cell_type": "code",
            "source": [
                "SELECT MAX(start_lat) AS 'Most Northernly Longitude' \r\n",
                "FROM RideShareDB.dbo.lyft"
            ],
            "metadata": {
                "language": "sql",
                "azdata_cell_guid": "79c3138c-7aed-4571-b97a-77da8d674f08"
            },
            "outputs": [
                {
                    "output_type": "display_data",
                    "data": {
                        "text/html": "Warning: Null value is eliminated by an aggregate or other SET operation."
                    },
                    "metadata": {}
                },
                {
                    "output_type": "display_data",
                    "data": {
                        "text/html": "(1 row affected)"
                    },
                    "metadata": {}
                },
                {
                    "output_type": "display_data",
                    "data": {
                        "text/html": "Total execution time: 00:00:00.074"
                    },
                    "metadata": {}
                },
                {
                    "output_type": "execute_result",
                    "metadata": {},
                    "execution_count": 3,
                    "data": {
                        "application/vnd.dataresource+json": {
                            "schema": {
                                "fields": [
                                    {
                                        "name": "Most Northernly Longitude"
                                    }
                                ]
                            },
                            "data": [
                                {
                                    "0": "40.93562"
                                }
                            ]
                        },
                        "text/html": [
                            "<table>",
                            "<tr><th>Most Northernly Longitude</th></tr>",
                            "<tr><td>40.93562</td></tr>",
                            "</table>"
                        ]
                    }
                }
            ],
            "execution_count": 3
        },
        {
            "cell_type": "code",
            "source": [
                "SELECT TOP 1\r\n",
                "    time_of_trip,\r\n",
                "    start_lng,\r\n",
                "    MIN(start_lat) AS 'Most Northernly Lyft pickup' \r\n",
                "FROM RideShareDB.dbo.lyft\r\n",
                "GROUP BY start_lat, start_lng, time_of_trip\r\n",
                "ORDER BY start_lat DESC"
            ],
            "metadata": {
                "azdata_cell_guid": "189b7c25-0dfa-4ca0-a683-d402b3875abd",
                "language": "sql"
            },
            "outputs": [
                {
                    "output_type": "display_data",
                    "data": {
                        "text/html": "(1 row affected)"
                    },
                    "metadata": {}
                },
                {
                    "output_type": "display_data",
                    "data": {
                        "text/html": "Total execution time: 00:00:00.216"
                    },
                    "metadata": {}
                },
                {
                    "output_type": "execute_result",
                    "execution_count": 43,
                    "data": {
                        "application/vnd.dataresource+json": {
                            "schema": {
                                "fields": [
                                    {
                                        "name": "time_of_trip"
                                    },
                                    {
                                        "name": "start_lng"
                                    },
                                    {
                                        "name": "Most Northernly Lyft pickup"
                                    }
                                ]
                            },
                            "data": [
                                {
                                    "0": "2014-08-23 06:06:00.0000000",
                                    "1": "-73.89887",
                                    "2": "40.93562"
                                }
                            ]
                        },
                        "text/html": "<table><tr><th>time_of_trip</th><th>start_lng</th><th>Most Northernly Lyft pickup</th></tr><tr><td>2014-08-23 06:06:00.0000000</td><td>-73.89887</td><td>40.93562</td></tr></table>"
                    },
                    "metadata": {}
                }
            ],
            "execution_count": 43
        },
        {
            "cell_type": "markdown",
            "source": [
                "Using ``other-FHV-services-jan-july15``, write a query that connects the the base number and the base name in a string that uses the following format: base\\_number: base\\_name."
            ],
            "metadata": {
                "azdata_cell_guid": "674f8758-14bf-4712-b029-0ad0447617fb"
            },
            "attachments": {}
        },
        {
            "cell_type": "code",
            "source": [
                "SELECT\r\n",
                "TOP 10\r\n",
                "    CONCAT_WS(':',Base_Number,Base_Name) As 'BaseNumber:BaseName'\r\n",
                "FROM RideShareDB.dbo.other_FHV_services_jan_aug_2015"
            ],
            "metadata": {
                "azdata_cell_guid": "f6f4b247-63c0-4997-8769-204e37a55c08",
                "language": "sql"
            },
            "outputs": [
                {
                    "output_type": "display_data",
                    "data": {
                        "text/html": "(10 rows affected)"
                    },
                    "metadata": {}
                },
                {
                    "output_type": "display_data",
                    "data": {
                        "text/html": "Total execution time: 00:00:00.043"
                    },
                    "metadata": {}
                },
                {
                    "output_type": "execute_result",
                    "execution_count": 46,
                    "data": {
                        "application/vnd.dataresource+json": {
                            "schema": {
                                "fields": [
                                    {
                                        "name": "BaseNumber:BaseName"
                                    }
                                ]
                            },
                            "data": [
                                {
                                    "0": "B00013:LOVE CORP CAR INC"
                                },
                                {
                                    "0": "B00014:NY ONE CORP CAR INC"
                                },
                                {
                                    "0": "B00029:COMMUNITY CAR SVC CORP"
                                },
                                {
                                    "0": "B00053:CHARGE AND RIDE INC"
                                },
                                {
                                    "0": "B00095:LIBERTY CAR SERVICE INC."
                                },
                                {
                                    "0": "B00221:PROFESSIONAL CAR SERVICE INC"
                                },
                                {
                                    "0": "B00227:PARK WEST EXEC. SERVICES, INC."
                                },
                                {
                                    "0": "B00248:YELLOWSTONE TRANSPORTATION INC."
                                },
                                {
                                    "0": "B00254:XYZ TWO WAY RADIO"
                                },
                                {
                                    "0": "B00280:FLEET RADIO DISPATCH CORP."
                                }
                            ]
                        },
                        "text/html": "<table><tr><th>BaseNumber:BaseName</th></tr><tr><td>B00013:LOVE CORP CAR INC</td></tr><tr><td>B00014:NY ONE CORP CAR INC</td></tr><tr><td>B00029:COMMUNITY CAR SVC CORP</td></tr><tr><td>B00053:CHARGE AND RIDE INC</td></tr><tr><td>B00095:LIBERTY CAR SERVICE INC.</td></tr><tr><td>B00221:PROFESSIONAL CAR SERVICE INC</td></tr><tr><td>B00227:PARK WEST EXEC. SERVICES, INC.</td></tr><tr><td>B00248:YELLOWSTONE TRANSPORTATION INC.</td></tr><tr><td>B00254:XYZ TWO WAY RADIO</td></tr><tr><td>B00280:FLEET RADIO DISPATCH CORP.</td></tr></table>"
                    },
                    "metadata": {}
                }
            ],
            "execution_count": 46
        }
    ]
}